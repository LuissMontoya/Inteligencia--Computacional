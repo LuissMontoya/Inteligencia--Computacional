{
 "cells": [
  {
   "cell_type": "code",
   "execution_count": 52,
   "metadata": {},
   "outputs": [],
   "source": [
    "import nltk\n",
    "import numpy as np\n",
    "import random\n",
    "import string"
   ]
  },
  {
   "cell_type": "code",
   "execution_count": 53,
   "metadata": {},
   "outputs": [],
   "source": [
    "f= open(r'C:\\Users\\#Root\\Downloads\\Semestre\\Int Computacional\\Procesamiento_de_Lenguaje_Natural(nlp)\\Corpus_eje_covid.txt','r',errors='ignore')\n",
    "raw=f.read()"
   ]
  },
  {
   "cell_type": "code",
   "execution_count": 54,
   "metadata": {},
   "outputs": [
    {
     "data": {
      "text/plain": [
       "'En cuarentena no se puede salir de casa.\\n\\nComo medidas de prevención, recuerde siempre lavarse las manos y utilizar tapabocas.\\n\\nLos tapabocas los puede comprar en una farmacia.\\n\\nPuede comprar alimentos a través de domicilio.\\n\\nNo se tiene previsión de vacuna.\\n\\nLos medicamentos los puede comprar a domicilio.\\n\\n\\n\\n'"
      ]
     },
     "execution_count": 54,
     "metadata": {},
     "output_type": "execute_result"
    }
   ],
   "source": [
    "raw\n"
   ]
  },
  {
   "cell_type": "code",
   "execution_count": 55,
   "metadata": {},
   "outputs": [
    {
     "name": "stderr",
     "output_type": "stream",
     "text": [
      "[nltk_data] Downloading package punkt to\n",
      "[nltk_data]     C:\\Users\\#Root\\AppData\\Roaming\\nltk_data...\n",
      "[nltk_data]   Package punkt is already up-to-date!\n",
      "[nltk_data] Downloading package wordnet to\n",
      "[nltk_data]     C:\\Users\\#Root\\AppData\\Roaming\\nltk_data...\n",
      "[nltk_data]   Package wordnet is already up-to-date!\n"
     ]
    },
    {
     "data": {
      "text/plain": [
       "True"
      ]
     },
     "execution_count": 55,
     "metadata": {},
     "output_type": "execute_result"
    }
   ],
   "source": [
    "raw = raw.lower() #convertir a minuscula\n",
    "\n",
    "nltk.download('punkt') \n",
    "nltk.download('wordnet')"
   ]
  },
  {
   "cell_type": "code",
   "execution_count": 56,
   "metadata": {},
   "outputs": [],
   "source": [
    "sent_tokens = nltk.sent_tokenize(raw)#pasar corpus a una lista de sentencias\n",
    "\n",
    "word_tokens = nltk.word_tokenize(raw)#convertir corpus a una lista de palabras\n",
    "\n",
    "lemmer = nltk.stem.WordNetLemmatizer()"
   ]
  },
  {
   "cell_type": "code",
   "execution_count": 57,
   "metadata": {},
   "outputs": [],
   "source": [
    "def LemTokens(tokens):\n",
    "    return [lemmer.lemmatize(token) for token in tokens]#lematizar palabras tokenizadas\n",
    "\n",
    "remove_punct_dict = dict((ord(punct),None) for punct in string.punctuation)\n",
    "\n",
    "def LemNormalize(text):\n",
    "    return LemTokens(nltk.word_tokenize(text.lower().traslate(remove_punct_dict)))"
   ]
  },
  {
   "cell_type": "code",
   "execution_count": 62,
   "metadata": {},
   "outputs": [],
   "source": [
    "from sklearn.feature_extraction.text import TfidfVectorizer\n",
    "from sklearn.metrics.pairwise import cosine_similarity\n",
    "from nltk.corpus import stopwords"
   ]
  },
  {
   "cell_type": "code",
   "execution_count": 72,
   "metadata": {},
   "outputs": [],
   "source": [
    "#Determinar la similitud del texto insertado y el corpus\n",
    "def response(user_response):#función de respuesta (entrada; mensaje de usuario)\n",
    "    chatbot_response = ''  #definir la respuesta del chatBot\n",
    "    sent_tokens.append(user_response) #al listado de sente-ncias del corpues añadir el final ..\n",
    "    Tfidfvec = TfidfVectorizer(tokenizer=lemNormalize,stop_words=stopwords.words('spanish'))\n",
    "    \n",
    "\n",
    "# 3 evaluar similitud de coseno entre mensaje de usuario(tfidf[-1] y el corpus (tfidf)\n",
    "    vals = cosine_similarity(tfidf[-1], tfidf)\n",
    "    idx= vals.argsort()[0][-2]\n",
    "    flat = vals.flatten()\n",
    "    flat.sort()\n",
    "    req_tfidf = flat[-2]\n",
    "    \n",
    "    if(req_tfidf ==0):\n",
    "        chatbot_response=chatbot_response+'Lo siento, no te he entendido'\n",
    "        return chatbot_response\n",
    "    else:\n",
    "        chatbot_response  = chatbot_response+sent_tokens[idx]\n",
    "        return chatbot_response\n"
   ]
  },
  {
   "cell_type": "code",
   "execution_count": null,
   "metadata": {},
   "outputs": [],
   "source": []
  },
  {
   "cell_type": "code",
   "execution_count": null,
   "metadata": {},
   "outputs": [],
   "source": []
  }
 ],
 "metadata": {
  "kernelspec": {
   "display_name": "Python 3",
   "language": "python",
   "name": "python3"
  },
  "language_info": {
   "codemirror_mode": {
    "name": "ipython",
    "version": 3
   },
   "file_extension": ".py",
   "mimetype": "text/x-python",
   "name": "python",
   "nbconvert_exporter": "python",
   "pygments_lexer": "ipython3",
   "version": "3.7.6"
  }
 },
 "nbformat": 4,
 "nbformat_minor": 4
}
