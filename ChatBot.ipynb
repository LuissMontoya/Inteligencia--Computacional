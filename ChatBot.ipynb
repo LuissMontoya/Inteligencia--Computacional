{
 "cells": [
  {
   "cell_type": "code",
   "execution_count": 33,
   "metadata": {},
   "outputs": [],
   "source": [
    "import nltk\n",
    "import numpy as np\n",
    "import random\n",
    "import string"
   ]
  },
  {
   "cell_type": "code",
   "execution_count": 34,
   "metadata": {},
   "outputs": [],
   "source": [
    "f= open(r'C:\\Users\\#Root\\Downloads\\Semestre\\Int Computacional\\Procesamiento_de_Lenguaje_Natural(nlp)\\Corpus_eje_covid.txt','r',errors='ignore')\n",
    "raw=f.read()"
   ]
  },
  {
   "cell_type": "code",
   "execution_count": 35,
   "metadata": {},
   "outputs": [
    {
     "data": {
      "text/plain": [
       "'En cuarentena no se puede salir de casa.\\n\\nComo medidas de prevención, recuerde siempre lavarse las manos y utilizar tapabocas.\\n\\nLos tapabocas los puede comprar en una farmacia.\\n\\nPuede comprar alimentos a través de domicilio.\\n\\nNo se tiene previsión de vacuna.\\n\\nLos medicamentos los puede comprar a domicilio.\\n\\n\\n\\n'"
      ]
     },
     "execution_count": 35,
     "metadata": {},
     "output_type": "execute_result"
    }
   ],
   "source": [
    "raw\n"
   ]
  },
  {
   "cell_type": "code",
   "execution_count": 36,
   "metadata": {},
   "outputs": [
    {
     "name": "stderr",
     "output_type": "stream",
     "text": [
      "[nltk_data] Downloading package punkt to\n",
      "[nltk_data]     C:\\Users\\#Root\\AppData\\Roaming\\nltk_data...\n",
      "[nltk_data]   Package punkt is already up-to-date!\n",
      "[nltk_data] Downloading package wordnet to\n",
      "[nltk_data]     C:\\Users\\#Root\\AppData\\Roaming\\nltk_data...\n",
      "[nltk_data]   Package wordnet is already up-to-date!\n"
     ]
    },
    {
     "data": {
      "text/plain": [
       "True"
      ]
     },
     "execution_count": 36,
     "metadata": {},
     "output_type": "execute_result"
    }
   ],
   "source": [
    "raw = raw.lower() #convertir a minuscula\n",
    "\n",
    "nltk.download('punkt') \n",
    "nltk.download('wordnet')"
   ]
  },
  {
   "cell_type": "code",
   "execution_count": 37,
   "metadata": {},
   "outputs": [],
   "source": [
    "sent_tokens = nltk.sent_tokenize(raw)#pasar corpus a una lista de sentencias\n",
    "\n",
    "word_tokens = nltk.word_tokenize(raw)#convertir corpus a una lista de palabras\n",
    "\n",
    "lemmer = nltk.stem.WordNetLemmatizer()"
   ]
  },
  {
   "cell_type": "code",
   "execution_count": 43,
   "metadata": {},
   "outputs": [],
   "source": [
    "def LemTokens(tokens):\n",
    "    return [lemmer.lemmatize(token) for token in tokens]#lematizar palabras tokenizadas\n",
    "\n",
    "remove_punct_dict = dict((ord(punct),None) for punct in string.punctuation)\n",
    "\n",
    "def LemNormalize(text):\n",
    "    return LemTokens(nltk.word_tokenize(text.lower().translate(remove_punct_dict)))"
   ]
  },
  {
   "cell_type": "code",
   "execution_count": 44,
   "metadata": {},
   "outputs": [],
   "source": [
    "from sklearn.feature_extraction.text import TfidfVectorizer\n",
    "from sklearn.metrics.pairwise import cosine_similarity\n",
    "from nltk.corpus import stopwords"
   ]
  },
  {
   "cell_type": "code",
   "execution_count": 45,
   "metadata": {},
   "outputs": [],
   "source": [
    "#Determinar la similitud del texto insertado y el corpus\n",
    "def response(user_response):#función de respuesta (entrada; mensaje de usuario)\n",
    "    chatbot_response = ''  #definir la respuesta del chatBot\n",
    "    sent_tokens.append(user_response) #al listado de sente-ncias del corpues añadir el final ..\n",
    "    TfidfVec = TfidfVectorizer(tokenizer=LemNormalize,stop_words=stopwords.words('spanish'))\n",
    "    tfidf = TfidfVec.fit_transform(sent_tokens)\n",
    "\n",
    "# 3 evaluar similitud de coseno entre mensaje de usuario(tfidf[-1] y el corpus (tfidf)\n",
    "    vals = cosine_similarity(tfidf[-1], tfidf)\n",
    "    idx= vals.argsort()[0][-2]\n",
    "    flat = vals.flatten()\n",
    "    flat.sort()\n",
    "    req_tfidf = flat[-2]\n",
    "    \n",
    "    if(req_tfidf ==0):\n",
    "        chatbot_response=chatbot_response+'Lo siento, no te he entendido'\n",
    "        return chatbot_response\n",
    "    else:\n",
    "        chatbot_response  = chatbot_response+sent_tokens[idx]\n",
    "        return chatbot_response\n"
   ]
  },
  {
   "cell_type": "markdown",
   "metadata": {},
   "source": [
    "# DEFINICIÓN DE COINCIDENCIAS MANUAL"
   ]
  },
  {
   "cell_type": "code",
   "execution_count": 46,
   "metadata": {},
   "outputs": [],
   "source": [
    "SALUDOS_INPUTS=(\"hola\",\"buenas\",\"saludos\",\"qué tal\",\"hey\",\"buenos días\")\n",
    "\n",
    "SALUDOS_OUTPUTS=(\"Hola\",\"Hola, ¿Qué tal?\",\"Hola, ¿Cómo te puedo ayudar ?\",\"Hola, encantado de hablar contigo\")\n",
    "\n",
    "\n",
    "def saludos(sentence):\n",
    "\tfor word in sentence.split():\n",
    "\t\tif word.lower() in SALUDOS_INPUTS:\n",
    "\t\t\treturn random.choice(SALUDOS_OUTPUTS)"
   ]
  },
  {
   "cell_type": "markdown",
   "metadata": {},
   "source": [
    "# GENERACIÓN DE RESPUESTA"
   ]
  },
  {
   "cell_type": "code",
   "execution_count": null,
   "metadata": {},
   "outputs": [
    {
     "name": "stdout",
     "output_type": "stream",
     "text": [
      "AGENTE: Mi nombre es AGENTE. Contestaré a tus preguntas acerca del COVID y las medidas de seguridad.Escribe salir para abandonar el chat\n",
      "cuarentena\n",
      "AGENTE: cuarentena\n",
      "comida\n",
      "AGENTE: Lo siento, no te he entendido\n",
      "alimentos\n",
      "AGENTE: puede comprar alimentos a través de domicilio.\n",
      "cuarentena\n",
      "AGENTE: cuarentena\n",
      "fiebre\n",
      "AGENTE: Lo siento, no te he entendido\n",
      "cuarentena\n",
      "AGENTE: cuarentena\n",
      "tapabocas\n",
      "AGENTE: los tapabocas los puede comprar en una farmacia.\n",
      "vacuna\n",
      "AGENTE: no se tiene previsión de vacuna.\n",
      "casa\n",
      "AGENTE: en cuarentena no se puede salir de casa.\n",
      "lavar\n",
      "AGENTE: Lo siento, no te he entendido\n",
      "lavarse\n",
      "AGENTE: como medidas de prevención, recuerde siempre lavarse las manos y utilizar tapabocas.\n",
      "domicilio\n",
      "AGENTE: los medicamentos los puede comprar a domicilio.\n",
      "cuarentena\n",
      "AGENTE: cuarentena\n",
      "prevención\n",
      "AGENTE: como medidas de prevención, recuerde siempre lavarse las manos y utilizar tapabocas.\n",
      "medida\n",
      "AGENTE: Lo siento, no te he entendido\n",
      "medidas\n",
      "AGENTE: como medidas de prevención, recuerde siempre lavarse las manos y utilizar tapabocas.\n"
     ]
    }
   ],
   "source": [
    "flag= True\n",
    "print(\"AGENTE: Mi nombre es AGENTE. Contestaré a tus preguntas acerca del COVID y las medidas de seguridad.Escribe salir para abandonar el chat\")\n",
    "while(flag==True):\n",
    "    user_response = input()\n",
    "    user_response = user_response.lower()\n",
    "    \n",
    "    if(user_response!='salir'):\n",
    "        \n",
    "        if(user_response=='gracias' or user_response=='muchas gracias'): #se podria definir otra función de coincidencia\n",
    "            flag=True\n",
    "            print(\"AGENTE: No hay de qué\")\n",
    "        \n",
    "        else:\n",
    "            if(saludos(user_response)!=None): #si la palabra insertada por el usuario es un saludo(coincidencias manuales definidas)\n",
    "                print(\"AGENTE: \"+saludos(user_response))\n",
    "                \n",
    "            else:#Si la palabra insertada no es un saludo --> CORPUS\n",
    "                print(\"AGENTE: \",end=\"\")\n",
    "                print(response(user_response))\n",
    "                sent_tokens.remove(user_response) #para eliminar del corpues la respuesta del usuario y volver a evaluar\n",
    "\n",
    "    else:\n",
    "        flag=False\n",
    "        print(\"AGENTE: Nos vemos pronto, Cuídate!\")\n"
   ]
  },
  {
   "cell_type": "code",
   "execution_count": null,
   "metadata": {},
   "outputs": [],
   "source": []
  },
  {
   "cell_type": "code",
   "execution_count": null,
   "metadata": {},
   "outputs": [],
   "source": []
  },
  {
   "cell_type": "code",
   "execution_count": null,
   "metadata": {},
   "outputs": [],
   "source": []
  }
 ],
 "metadata": {
  "kernelspec": {
   "display_name": "Python 3",
   "language": "python",
   "name": "python3"
  },
  "language_info": {
   "codemirror_mode": {
    "name": "ipython",
    "version": 3
   },
   "file_extension": ".py",
   "mimetype": "text/x-python",
   "name": "python",
   "nbconvert_exporter": "python",
   "pygments_lexer": "ipython3",
   "version": "3.7.6"
  }
 },
 "nbformat": 4,
 "nbformat_minor": 4
}
