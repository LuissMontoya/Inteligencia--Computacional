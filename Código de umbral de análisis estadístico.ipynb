{
 "cells": [
  {
   "cell_type": "code",
   "execution_count": 12,
   "metadata": {},
   "outputs": [
    {
     "data": {
      "text/plain": [
       "-1"
      ]
     },
     "execution_count": 12,
     "metadata": {},
     "output_type": "execute_result"
    }
   ],
   "source": [
    "# import the necessary packages\n",
    "import numpy as np\n",
    "import cv2\n",
    "import easygui\n",
    " \n",
    "# load the image and convert it to grayscale\n",
    "f = easygui.fileopenbox()\n",
    "image = cv2.imread(f)\n",
    "gray = cv2.cvtColor(image, cv2.COLOR_BGR2GRAY)\n",
    "cv2.imshow(\"Gray\", gray)\n",
    "cv2.waitKey(0)\n",
    " \n",
    "thresh = cv2.adaptiveThreshold(gray, maxValue= 255,adaptiveMethod= cv2.ADAPTIVE_THRESH_GAUSSIAN_C,thresholdType= cv2.THRESH_BINARY,blockSize=21,C = 20)\n",
    "#T, B =cv2.threshold(gray, thresh, maxval= 255, type = cv2.THRESH_BINARY)\n",
    "cv2.imshow(\"Binary threshold\", thresh)\n",
    "cv2.waitKey(0)"
   ]
  },
  {
   "cell_type": "code",
   "execution_count": null,
   "metadata": {},
   "outputs": [],
   "source": []
  }
 ],
 "metadata": {
  "kernelspec": {
   "display_name": "Python 3",
   "language": "python",
   "name": "python3"
  }
 },
 "nbformat": 4,
 "nbformat_minor": 4
}
