{
 "cells": [
  {
   "cell_type": "code",
   "execution_count": 1,
   "metadata": {},
   "outputs": [
    {
     "data": {
      "image/png": "[encoded data removed]",
      "text/plain": [
       "<Figure size 432x288 with 4 Axes>"
      ]
     },
     "metadata": {
      "needs_background": "light"
     },
     "output_type": "display_data"
    },
    {
     "data": {
      "text/plain": [
       "-1"
      ]
     },
     "execution_count": 1,
     "metadata": {},
     "output_type": "execute_result"
    }
   ],
   "source": [
    "# import the necessary packages\n",
    "import numpy as np\n",
    "import cv2\n",
    "import easygui\n",
    "from matplotlib import pyplot as plt\n",
    " \n",
    "# Load the image and convert it to grayscale\n",
    "f = easygui.fileopenbox()\n",
    "image = cv2.imread(f)\n",
    "gray = cv2.cvtColor(image, cv2.COLOR_BGR2GRAY)\n",
    " \n",
    "# Sobel gradients for x an y direction of the image\n",
    "X2 = cv2.Sobel(gray, ddepth = cv2.CV_64F, dx = 1, dy = 0, ksize = -1)\n",
    "Y2 = cv2.Sobel(gray, ddepth = cv2.CV_64F, dx = 0, dy = 1, ksize = -1)\n",
    " \n",
    "# Sobel gradient magnitude (normalised to 0-3)\n",
    "grad_sobel=np.sqrt(X2*X2+Y2*Y2)\n",
    "cv2.normalize(grad_sobel, grad_sobel, 0, 3, cv2.NORM_MINMAX)\n",
    " \n",
    "# Blur and threshold the gradient magnitude\n",
    "blurred = cv2.blur(grad_sobel, (12, 12))\n",
    " \n",
    "# Extract minimum and maximum values of the pixels from 'Blurred Sobel Gradient Magnitude'\n",
    "(minVal, maxVal, _, _) = cv2.minMaxLoc(blurred)\n",
    " \n",
    "# Extract mean and standard deviation values of the pixels from 'Blurred Sobel Gradient Magnitude'\n",
    "(mean, stddev) = cv2.meanStdDev(blurred)\n",
    " \n",
    "# Apply different threshold:\n",
    "# 1. mean and maxVal as lower and upper limits\n",
    "# 2. mean+stddev and maxVal as lower and upper limits\n",
    "(_, thresh1) = cv2.threshold(blurred, mean, maxVal, cv2.THRESH_BINARY)\n",
    "(_, thresh2) = cv2.threshold(blurred, mean+stddev, maxVal, cv2.THRESH_BINARY)\n",
    " \n",
    "# Plot the different thresholds\n",
    "plt.subplot(221),plt.imshow(thresh1,'gray'),plt.title('Mean and maxVal as limits')\n",
    "plt.subplot(222),plt.imshow(thresh2,'gray'),plt.title('Mean+stddev and maxVal as limits')\n",
    " \n",
    "# Kernel created\n",
    "kernel = cv2.getStructuringElement(cv2.MORPH_ELLIPSE, (7, 7))\n",
    " \n",
    "# Kernel applied to the image with opening and closing algorithms\n",
    "closed = cv2.morphologyEx(thresh2, cv2.MORPH_CLOSE, kernel)\n",
    "mod1 = cv2.morphologyEx(closed, cv2.MORPH_OPEN, kernel)\n",
    " \n",
    "# Kernel applied to the image with opening and closing algorithms\n",
    "opened = cv2.morphologyEx(thresh1, cv2.MORPH_OPEN, kernel)\n",
    "mod2 = cv2.morphologyEx(thresh1, cv2.MORPH_CLOSE, kernel)\n",
    " \n",
    "# Plot the modified thresholds\n",
    "plt.subplot(223),plt.imshow(mod2,'gray'),plt.title('Mean and maxVal as limits & Modified')\n",
    "plt.subplot(224),plt.imshow(mod1,'gray'),plt.title('Mean+stddev and maxVal as limits & Modified')\n",
    " \n",
    "plt.show()\n",
    "cv2.waitKey(0)"
   ]
  },
  {
   "cell_type": "code",
   "execution_count": null,
   "metadata": {},
   "outputs": [],
   "source": []
  }
 ],
 "metadata": {
  "kernelspec": {
   "display_name": "Python 3",
   "language": "python",
   "name": "python3"
  },
  "language_info": {
   "codemirror_mode": {
    "name": "ipython",
    "version": 3
   },
   "file_extension": ".py",
   "mimetype": "text/x-python",
   "name": "python",
   "nbconvert_exporter": "python",
   "pygments_lexer": "ipython3",
   "version": "3.7.6"
  }
 },
 "nbformat": 4,
 "nbformat_minor": 4
}
