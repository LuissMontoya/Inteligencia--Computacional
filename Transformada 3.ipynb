{
 "cells": [
  {
   "cell_type": "code",
   "execution_count": 3,
   "metadata": {},
   "outputs": [],
   "source": [
    "import cv2 \n",
    "import numpy as np \n",
    "  \n",
    "img = cv2.imread('1.jpg') \n",
    "  \n",
    "# Convert the img to grayscale \n",
    "gray = cv2.cvtColor(img,cv2.COLOR_BGR2GRAY) \n",
    "  \n",
    "# Apply edge detection method on the image \n",
    "edges = cv2.Canny(gray,50,150,apertureSize = 3) \n",
    "  \n",
    "# This returns an array of r and theta values \n",
    "lines = cv2.HoughLines(edges,1,np.pi/180, 200) \n",
    "  \n",
    "# The below for loop runs till r and theta values  \n",
    "# are in the range of the 2d array \n",
    "for r,theta in lines[0]: \n",
    "      \n",
    "    # Stores the value of cos(theta) in a \n",
    "    a = np.cos(theta) \n",
    "  \n",
    "    # Stores the value of sin(theta) in b \n",
    "    b = np.sin(theta) \n",
    "      \n",
    "    # x0 stores the value rcos(theta) \n",
    "    x0 = a*r \n",
    "      \n",
    "    # y0 stores the value rsin(theta) \n",
    "    y0 = b*r \n",
    "      \n",
    "    # x1 stores the rounded off value of (rcos(theta)-1000sin(theta)) \n",
    "    x1 = int(x0 + 1000*(-b)) \n",
    "      \n",
    "    # y1 stores the rounded off value of (rsin(theta)+1000cos(theta)) \n",
    "    y1 = int(y0 + 1000*(a)) \n",
    "  \n",
    "    # x2 stores the rounded off value of (rcos(theta)+1000sin(theta)) \n",
    "    x2 = int(x0 - 1000*(-b)) \n",
    "      \n",
    "    # y2 stores the rounded off value of (rsin(theta)-1000cos(theta)) \n",
    "    y2 = int(y0 - 1000*(a)) \n",
    "      \n",
    "    # cv2.line draws a line in img from the point(x1,y1) to (x2,y2). \n",
    "    # (0,0,255) denotes the colour of the line to be  \n",
    "    #drawn. In this case, it is red.  \n",
    "    cv2.line(img,(x1,y1), (x2,y2), (0,0,255),2) \n",
    "      \n",
    "# All the changes made in the input image are finally \n",
    "# written on a new image houghlines.jpg \n",
    "cv2.imshow('Detector de Lineas', img)\n",
    "#cv2.imwrite('linesDetected.jpg', img) "
   ]
  },
  {
   "cell_type": "code",
   "execution_count": null,
   "metadata": {},
   "outputs": [],
   "source": []
  }
 ],
 "metadata": {
  "kernelspec": {
   "display_name": "Python 3",
   "language": "python",
   "name": "python3"
  },
  "language_info": {
   "codemirror_mode": {
    "name": "ipython",
    "version": 3
   },
   "file_extension": ".py",
   "mimetype": "text/x-python",
   "name": "python",
   "nbconvert_exporter": "python",
   "pygments_lexer": "ipython3",
   "version": "3.7.6"
  }
 },
 "nbformat": 4,
 "nbformat_minor": 4
}
