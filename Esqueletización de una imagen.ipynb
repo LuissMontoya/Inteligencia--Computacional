{
 "cells": [
  {
   "cell_type": "code",
   "execution_count": 2,
   "metadata": {},
   "outputs": [],
   "source": [
    "import cv2\n",
    "import numpy as np\n",
    "\n",
    "img = cv2.imread('procesada.jpg',0)\n",
    "size = np.size(img)\n",
    "skel = np.zeros(img.shape,np.uint8)\n",
    "\n",
    "ret,img = cv2.threshold(img,172,255,0)\n",
    "element = cv2.getStructuringElement(cv2.MORPH_CROSS,(3,3))\n",
    "done = False\n",
    "\n",
    "while( not done):\n",
    "    eroded = cv2.erode(img,element)\n",
    "    temp = cv2.dilate(eroded,element)\n",
    "    temp = cv2.subtract(img,temp)\n",
    "    skel = cv2.bitwise_or(skel,temp)\n",
    "    img = eroded.copy()\n",
    "\n",
    "    zeros = size - cv2.countNonZero(img)\n",
    "    if zeros==size:\n",
    "        done = True\n",
    "\n",
    "cv2.imshow(\"skel\",skel)\n",
    "cv2.waitKey(0)\n",
    "cv2.destroyAllWindows()\n"
   ]
  },
  {
   "cell_type": "code",
   "execution_count": null,
   "metadata": {},
   "outputs": [],
   "source": []
  },
  {
   "cell_type": "code",
   "execution_count": null,
   "metadata": {},
   "outputs": [],
   "source": []
  }
 ],
 "metadata": {
  "kernelspec": {
   "display_name": "Python 3",
   "language": "python",
   "name": "python3"
  },
  "language_info": {
   "codemirror_mode": {
    "name": "ipython",
    "version": 3
   },
   "file_extension": ".py",
   "mimetype": "text/x-python",
   "name": "python",
   "nbconvert_exporter": "python",
   "pygments_lexer": "ipython3",
   "version": "3.7.6"
  }
 },
 "nbformat": 4,
 "nbformat_minor": 4
}
