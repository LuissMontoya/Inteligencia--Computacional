{
 "cells": [
  {
   "cell_type": "code",
   "execution_count": 1,
   "metadata": {},
   "outputs": [],
   "source": [
    "import speech_recognition as sr"
   ]
  },
  {
   "cell_type": "code",
   "execution_count": 2,
   "metadata": {},
   "outputs": [],
   "source": [
    "r = sr.Recognizer()"
   ]
  },
  {
   "cell_type": "code",
   "execution_count": 3,
   "metadata": {},
   "outputs": [],
   "source": [
    "#si audio desde fichero\n",
    "#audio_file = sr.AudioFile('audio_ejemplo.wav')#El fichero debe estar en la ruta del interprete de Python\n",
    "\n",
    "#with audio_file as source:\n",
    "#    r.adjust_for_ambient_noise(source)# calibración si el fichero tiene ruido de fondo\n",
    "#    audio = r.record(source) # si solo se quiere una porción del audio: audio = r.record(source,offset=4,duration=3)\n",
    "\n",
    "\n"
   ]
  },
  {
   "cell_type": "code",
   "execution_count": 36,
   "metadata": {},
   "outputs": [
    {
     "data": {
      "text/plain": [
       "['Asignador de sonido Microsoft - Input',\n",
       " 'Micrófono (Conexant SmartAudio ',\n",
       " 'Asignador de sonido Microsoft - Output',\n",
       " 'Altavoces (Conexant SmartAudio ',\n",
       " 'Controlador primario de captura de sonido',\n",
       " 'Micrófono (Conexant SmartAudio HD)',\n",
       " 'Controlador primario de sonido',\n",
       " 'Altavoces (Conexant SmartAudio HD)',\n",
       " 'Altavoces (Conexant SmartAudio HD)',\n",
       " 'Micrófono (Conexant SmartAudio HD)',\n",
       " 'Speakers (Conexant HD Audio output)',\n",
       " 'Micrófono (Conexant HD Audio capture)',\n",
       " 'Mezcla estéreo (Conexant HD Stereo Mix)']"
      ]
     },
     "execution_count": 36,
     "metadata": {},
     "output_type": "execute_result"
    }
   ],
   "source": [
    "#si se necesita seleccionar un micrófono que no sea el por defecto\n",
    "sr.Microphone.list_microphone_names()\n"
   ]
  },
  {
   "cell_type": "code",
   "execution_count": 49,
   "metadata": {},
   "outputs": [],
   "source": [
    "mic = sr.Microphone(device_index =5)#1 será el micrófono 1 del listado"
   ]
  },
  {
   "cell_type": "markdown",
   "metadata": {},
   "source": [
    "# Ejecutar y Hablar "
   ]
  },
  {
   "cell_type": "code",
   "execution_count": 52,
   "metadata": {},
   "outputs": [],
   "source": [
    "with mic as source:\n",
    "    r.adjust_for_ambient_noise(source) # calibra si el audio tiene ruido\n",
    "    audio = r.listen(source)\n",
    "\n",
    "    "
   ]
  },
  {
   "cell_type": "code",
   "execution_count": 53,
   "metadata": {},
   "outputs": [
    {
     "data": {
      "text/plain": [
       "[]"
      ]
     },
     "execution_count": 53,
     "metadata": {},
     "output_type": "execute_result"
    }
   ],
   "source": [
    "# Reconocer a través de un API\n",
    "r.recognize_google(audio, language='es', show_all=True) # Definimos la API a utilizar "
   ]
  },
  {
   "cell_type": "code",
   "execution_count": null,
   "metadata": {},
   "outputs": [],
   "source": []
  }
 ],
 "metadata": {
  "kernelspec": {
   "display_name": "Python 3",
   "language": "python",
   "name": "python3"
  },
  "language_info": {
   "codemirror_mode": {
    "name": "ipython",
    "version": 3
   },
   "file_extension": ".py",
   "mimetype": "text/x-python",
   "name": "python",
   "nbconvert_exporter": "python",
   "pygments_lexer": "ipython3",
   "version": "3.7.6"
  }
 },
 "nbformat": 4,
 "nbformat_minor": 4
}
